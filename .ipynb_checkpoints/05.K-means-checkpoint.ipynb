{
 "cells": [
  {
   "cell_type": "markdown",
   "metadata": {},
   "source": [
    "## 分群 (Clustering)"
   ]
  },
  {
   "cell_type": "markdown",
   "metadata": {},
   "source": [
    "* 為一種非監督式學習 => 訓練資料沒有預先定義的標籤\n",
    "* 目的在於找出資料中相似的幾個群聚，在同一個子集中的成員對象都有相似的一些屬性"
   ]
  },
  {
   "cell_type": "markdown",
   "metadata": {},
   "source": [
    "### K平均演算法 (K-means algorithm)\n",
    "\n",
    "* 把n個點劃分到k個聚類中，使每個點都有屬於一個離它最近的均值(聚類中心)對應的聚類 (利用向量距離來做聚類)，以作為分群的標準\n",
    "* 已知觀測集(x1,x2,...,xn)，其中每個觀測都是一個d-維實向量，k-平均聚類要把這n個觀測劃分到k個集合中(k≤n),使得組內平方和（WCSS within-cluster sum of squares）最小"
   ]
  },
  {
   "cell_type": "markdown",
   "metadata": {},
   "source": [
    "![Alt text](data/KMeans.png)"
   ]
  },
  {
   "cell_type": "markdown",
   "metadata": {},
   "source": [
    "#### make_blobs\n",
    "\n",
    "* 根據使用者指定的特徵數量、中心點數量、範圍等參數生成一個N類資料集和對應標籤\n",
    "\n",
    "* sklearn.datasets.make_blobs(n_samples=100, n_features=2, centers=3, cluster_std=1.0, center_box=(-10.0, 10.0), shuffle=True, random_state=None)\n",
    "\n",
    "參數|說明\n",
    "------|------\n",
    "n_samples|待生成的樣本總數\n",
    "n_features|每個樣本的特徵數\n",
    "centers|類別數\n",
    "cluster_std|每個類別的方差\n",
    "center_box|中心確定之後的資料邊界，default value : (-10.0, 10.0)\n",
    "shuffle | 打亂 default value : True\n",
    "random_state | 相同的值重覆機率"
   ]
  },
  {
   "cell_type": "code",
   "execution_count": 2,
   "metadata": {},
   "outputs": [],
   "source": [
    "from sklearn.datasets import make_blobs\n",
    "\n",
    "X,y = make_blobs(n_samples=100,n_features=2,centers=4,cluster_std=1,center_box=(-10.0,10.0),shuffle=True,random_state=None)"
   ]
  },
  {
   "cell_type": "code",
   "execution_count": 3,
   "metadata": {},
   "outputs": [
    {
     "data": {
      "text/plain": [
       "array([[ -2.19677438, -10.29760014],\n",
       "       [ -4.37638937,  -0.1175735 ],\n",
       "       [-10.28002621,   8.50213729],\n",
       "       [  0.28261426,   3.794785  ],\n",
       "       [ -0.95421377,   1.83862449],\n",
       "       [ -6.70127503,   8.3200203 ],\n",
       "       [ -8.34588353,   7.7619367 ],\n",
       "       [-11.32221392,   7.48844963],\n",
       "       [ -2.32174421,  -6.82538968],\n",
       "       [ -9.44273205,   8.50618355],\n",
       "       [ -2.30259818,  -8.19018266],\n",
       "       [ -0.1442342 ,  -8.95073811],\n",
       "       [ -8.40133323,   9.21482758],\n",
       "       [ -2.24803432,   1.74827705],\n",
       "       [ -7.87154432,   7.92640558],\n",
       "       [ -8.80966565,   9.17975337],\n",
       "       [ -4.16057026,  -1.76147017],\n",
       "       [ -1.89161417,   0.99568209],\n",
       "       [ -3.4400536 ,  -3.79401216],\n",
       "       [ -3.38275227,   2.34149188],\n",
       "       [ -0.54032031,  -7.94570242],\n",
       "       [ -2.79829377,   4.6464327 ],\n",
       "       [ -2.44352456,  -7.63689038],\n",
       "       [ -1.29699931,  -7.40870296],\n",
       "       [ -1.75446999,   2.19484653],\n",
       "       [-11.3765331 ,   8.48934266],\n",
       "       [ -2.38111825,   3.6750185 ],\n",
       "       [ -1.86628899,  -7.66808652],\n",
       "       [ -4.74230524,  -2.78193484],\n",
       "       [ -3.2746854 ,  -8.7027639 ],\n",
       "       [ -3.60581546,  -0.52906397],\n",
       "       [ -2.09566038,  -0.65262094],\n",
       "       [ -2.1516771 ,   4.04087463],\n",
       "       [ -1.53900621,   2.4522188 ],\n",
       "       [ -0.98703406,  -2.19539555],\n",
       "       [-10.11613139,   8.11531425],\n",
       "       [ -3.92881631,   1.10875095],\n",
       "       [ -4.7180331 ,  -2.27103738],\n",
       "       [ -1.40775254,  -7.69059789],\n",
       "       [ -2.88331515,   2.38942655],\n",
       "       [ -2.02832759,   2.20580133],\n",
       "       [-10.21342319,   9.29795946],\n",
       "       [ -4.0440985 ,  -0.44645487],\n",
       "       [ -2.97711083,   3.59288916],\n",
       "       [ -3.05158503,  -7.53910942],\n",
       "       [ -4.73003571,  -2.57510879],\n",
       "       [ -3.44980451,  -1.01115799],\n",
       "       [-10.37683613,   7.87482655],\n",
       "       [ -9.40665167,   7.98558832],\n",
       "       [ -2.06954082,  -2.7306459 ],\n",
       "       [ -9.36392439,   8.01866963],\n",
       "       [ -4.73420873,   0.57721107],\n",
       "       [ -3.59629852,   2.6959083 ],\n",
       "       [ -2.00149126,   2.249904  ],\n",
       "       [ -3.34628132,  -0.82567499],\n",
       "       [ -1.31606578,  -9.08465876],\n",
       "       [ -0.68341759,  -8.52647752],\n",
       "       [-11.65026307,   8.41822846],\n",
       "       [ -2.74487809,  -7.39392986],\n",
       "       [ -2.87851112,   3.64855266],\n",
       "       [ -9.63622227,   8.11217368],\n",
       "       [ -2.88138746,  -1.35201199],\n",
       "       [ -9.74249727,   9.47886678],\n",
       "       [ -1.79367523,  -8.13218617],\n",
       "       [-10.59440452,   9.16550959],\n",
       "       [-10.02450858,   6.64089642],\n",
       "       [ -2.43990731,  -8.05188541],\n",
       "       [ -1.40630165,   2.30310929],\n",
       "       [ -9.08103989,   7.59632425],\n",
       "       [ -2.30504276,  -1.89363816],\n",
       "       [ -2.41508132,  -2.27376734],\n",
       "       [ -2.43904382,   2.52759991],\n",
       "       [-11.32709319,   7.04888554],\n",
       "       [ -3.51603122,  -7.18103962],\n",
       "       [ -7.62388373,   9.91063062],\n",
       "       [ -4.18960845,  -0.13647488],\n",
       "       [-10.34198541,   7.06790884],\n",
       "       [ -2.85324592,  -9.30334264],\n",
       "       [ -3.37472127,  -1.2499496 ],\n",
       "       [  0.23526378,   3.30688146],\n",
       "       [ -2.68958532,   2.25518389],\n",
       "       [ -1.45229628,  -8.98952299],\n",
       "       [ -6.10629847,  -3.49167379],\n",
       "       [ -3.96656674,   3.26397692],\n",
       "       [ -2.54744226,  -9.19821665],\n",
       "       [ -5.0735887 ,  -2.8670421 ],\n",
       "       [ -8.39370333,   8.25209031],\n",
       "       [ -5.11273155,  -1.81797468],\n",
       "       [ -1.76870425,  -8.80913238],\n",
       "       [ -0.54271315, -10.85192588],\n",
       "       [ -4.12724766,  -2.23425644],\n",
       "       [ -3.12777087,   2.3372941 ],\n",
       "       [ -2.90471316,   2.18698984],\n",
       "       [ -5.61805322,  -9.45531734],\n",
       "       [ -8.68086465,   9.08210175],\n",
       "       [ -3.8132212 ,  -0.58197332],\n",
       "       [ -1.59569069,  -7.15674927],\n",
       "       [ -4.22887576,  -3.2510054 ],\n",
       "       [ -2.35683699,   3.30356468],\n",
       "       [ -1.8275903 ,  -9.31402375]])"
      ]
     },
     "execution_count": 3,
     "metadata": {},
     "output_type": "execute_result"
    }
   ],
   "source": [
    "X"
   ]
  },
  {
   "cell_type": "code",
   "execution_count": 4,
   "metadata": {},
   "outputs": [
    {
     "data": {
      "text/plain": [
       "array([0, 1, 3, 2, 2, 3, 3, 3, 0, 3, 0, 0, 3, 2, 3, 3, 1, 2, 1, 2, 0, 2,\n",
       "       0, 0, 2, 3, 2, 0, 1, 0, 1, 1, 2, 2, 1, 3, 2, 1, 0, 2, 2, 3, 1, 2,\n",
       "       0, 1, 1, 3, 3, 1, 3, 1, 2, 2, 1, 0, 0, 3, 0, 2, 3, 1, 3, 0, 3, 3,\n",
       "       0, 2, 3, 1, 1, 2, 3, 0, 3, 1, 3, 0, 1, 2, 2, 0, 1, 2, 0, 1, 3, 1,\n",
       "       0, 0, 1, 2, 2, 0, 3, 1, 0, 1, 2, 0])"
      ]
     },
     "execution_count": 4,
     "metadata": {},
     "output_type": "execute_result"
    }
   ],
   "source": [
    "y"
   ]
  },
  {
   "cell_type": "code",
   "execution_count": 5,
   "metadata": {},
   "outputs": [],
   "source": [
    "import matplotlib.pyplot as plt"
   ]
  },
  {
   "cell_type": "code",
   "execution_count": 6,
   "metadata": {},
   "outputs": [
    {
     "data": {
      "text/plain": [
       "<matplotlib.collections.PathCollection at 0x2b88ccd5390>"
      ]
     },
     "execution_count": 6,
     "metadata": {},
     "output_type": "execute_result"
    },
    {
     "data": {
      "image/png": "[encoded data removed]",
      "text/plain": [
       "<Figure size 432x288 with 1 Axes>"
      ]
     },
     "metadata": {
      "needs_background": "light"
     },
     "output_type": "display_data"
    }
   ],
   "source": [
    "plt.figure(figsize=(6,4))\n",
    "plt.scatter(X[:, 0], X[:, 1], s=20, marker='o')"
   ]
  },
  {
   "cell_type": "markdown",
   "metadata": {},
   "source": [
    "#### Scikit-learn K-Means\n",
    "sklearn.cluster.KMeans(n_clusters=8, init=’k-means++’, n_init=10, max_iter=300, tol=0.0001, precompute_distances=’auto’, verbose=0, random_state=None, copy_x=True, n_jobs=None, algorithm=’auto’)\n",
    "\n",
    "參數 | 說明\n",
    "------|------\n",
    "n_clusters |聚類中心數量, default : 8\n",
    "init | 'k-means++   <br>'random':隨機選擇K個instance做為中心 <br>ndarray : 如傳入為矩陣（ndarray），則將該矩陣的每一行作為聚類中心\n",
    "n_init |隨機運行的次數 default: 10\n",
    "max_iter |運行的最大迭代次數 default: 300\n",
    "tol | 容忍的最小誤差,誤差小於tol則退出迭代 default: 1e-4\n",
    "precompute_distances | 是否將資料全載入到記憶體內計算，可選{'auto', True, False}\n",
    "n_jobs| 同時進行運算的核数\n",
    "verbose|是否輸出詳細訊息,default : 0 \n",
    "random_state|用於隨機產生中心的隨機序列\n",
    "copy_x|是否將資料複製一份進行運算\n",
    "algorithm |距離計算方式，可選{\"auto\", \"full\" or \"elkan\",default=\"auto\"}<br>full : 傳統距離計算公式 <br> elkan : 使用三角不等式 <br> auto : 為稀疏矩陣時使用full，否則使用elkan\n",
    "\n",
    "方法|說明\n",
    "------|------\n",
    "fit（X）|進行訓練\n",
    "predict(X) | 進行新數據類別的預測\n"
   ]
  },
  {
   "cell_type": "code",
   "execution_count": 8,
   "metadata": {},
   "outputs": [
    {
     "data": {
      "text/plain": [
       "KMeans(algorithm='auto', copy_x=True, init='k-means++', max_iter=300,\n",
       "       n_clusters=3, n_init=10, n_jobs=None, precompute_distances='auto',\n",
       "       random_state=None, tol=0.0001, verbose=0)"
      ]
     },
     "execution_count": 8,
     "metadata": {},
     "output_type": "execute_result"
    }
   ],
   "source": [
    "from sklearn.cluster import KMeans\n",
    "\n",
    "n_clusters = 3\n",
    "\n",
    "kmean = KMeans(n_clusters=n_clusters) \n",
    "\n",
    "kmean.fit(X) #進行訓練\n",
    "#kmean.fit_predict(X) # 先對X進行訓練並預測X中每個實例(instance)的類別"
   ]
  },
  {
   "cell_type": "code",
   "execution_count": 9,
   "metadata": {},
   "outputs": [
    {
     "name": "stdout",
     "output_type": "stream",
     "text": [
      "k=3, cost =-488\n"
     ]
    }
   ],
   "source": [
    "print(\"k={}, cost ={}\".format(n_clusters,int(kmean.score(X)))) #計算誤差"
   ]
  },
  {
   "cell_type": "code",
   "execution_count": 10,
   "metadata": {},
   "outputs": [
    {
     "name": "stdout",
     "output_type": "stream",
     "text": [
      "[[ -4.37638937  -0.1175735 ]\n",
      " [ -2.19677438 -10.29760014]\n",
      " [-10.28002621   8.50213729]\n",
      " [ -2.19677438 -10.29760014]\n",
      " [ -2.19677438 -10.29760014]\n",
      " [-10.28002621   8.50213729]\n",
      " [-10.28002621   8.50213729]\n",
      " [-10.28002621   8.50213729]\n",
      " [ -4.37638937  -0.1175735 ]\n",
      " [-10.28002621   8.50213729]\n",
      " [ -4.37638937  -0.1175735 ]\n",
      " [ -4.37638937  -0.1175735 ]\n",
      " [-10.28002621   8.50213729]\n",
      " [ -2.19677438 -10.29760014]\n",
      " [-10.28002621   8.50213729]\n",
      " [-10.28002621   8.50213729]\n",
      " [ -2.19677438 -10.29760014]\n",
      " [ -2.19677438 -10.29760014]\n",
      " [ -2.19677438 -10.29760014]\n",
      " [ -2.19677438 -10.29760014]\n",
      " [ -4.37638937  -0.1175735 ]\n",
      " [ -2.19677438 -10.29760014]\n",
      " [ -4.37638937  -0.1175735 ]\n",
      " [ -4.37638937  -0.1175735 ]\n",
      " [ -2.19677438 -10.29760014]\n",
      " [-10.28002621   8.50213729]\n",
      " [ -2.19677438 -10.29760014]\n",
      " [ -4.37638937  -0.1175735 ]\n",
      " [ -2.19677438 -10.29760014]\n",
      " [ -4.37638937  -0.1175735 ]\n",
      " [ -2.19677438 -10.29760014]\n",
      " [ -2.19677438 -10.29760014]\n",
      " [ -2.19677438 -10.29760014]\n",
      " [ -2.19677438 -10.29760014]\n",
      " [ -2.19677438 -10.29760014]\n",
      " [-10.28002621   8.50213729]\n",
      " [ -2.19677438 -10.29760014]\n",
      " [ -2.19677438 -10.29760014]\n",
      " [ -4.37638937  -0.1175735 ]\n",
      " [ -2.19677438 -10.29760014]\n",
      " [ -2.19677438 -10.29760014]\n",
      " [-10.28002621   8.50213729]\n",
      " [ -2.19677438 -10.29760014]\n",
      " [ -2.19677438 -10.29760014]\n",
      " [ -4.37638937  -0.1175735 ]\n",
      " [ -2.19677438 -10.29760014]\n",
      " [ -2.19677438 -10.29760014]\n",
      " [-10.28002621   8.50213729]\n",
      " [-10.28002621   8.50213729]\n",
      " [ -2.19677438 -10.29760014]\n",
      " [-10.28002621   8.50213729]\n",
      " [ -2.19677438 -10.29760014]\n",
      " [ -2.19677438 -10.29760014]\n",
      " [ -2.19677438 -10.29760014]\n",
      " [ -2.19677438 -10.29760014]\n",
      " [ -4.37638937  -0.1175735 ]\n",
      " [ -4.37638937  -0.1175735 ]\n",
      " [-10.28002621   8.50213729]\n",
      " [ -4.37638937  -0.1175735 ]\n",
      " [ -2.19677438 -10.29760014]\n",
      " [-10.28002621   8.50213729]\n",
      " [ -2.19677438 -10.29760014]\n",
      " [-10.28002621   8.50213729]\n",
      " [ -4.37638937  -0.1175735 ]\n",
      " [-10.28002621   8.50213729]\n",
      " [-10.28002621   8.50213729]\n",
      " [ -4.37638937  -0.1175735 ]\n",
      " [ -2.19677438 -10.29760014]\n",
      " [-10.28002621   8.50213729]\n",
      " [ -2.19677438 -10.29760014]\n",
      " [ -2.19677438 -10.29760014]\n",
      " [ -2.19677438 -10.29760014]\n",
      " [-10.28002621   8.50213729]\n",
      " [ -4.37638937  -0.1175735 ]\n",
      " [-10.28002621   8.50213729]\n",
      " [ -2.19677438 -10.29760014]\n",
      " [-10.28002621   8.50213729]\n",
      " [ -4.37638937  -0.1175735 ]\n",
      " [ -2.19677438 -10.29760014]\n",
      " [ -2.19677438 -10.29760014]\n",
      " [ -2.19677438 -10.29760014]\n",
      " [ -4.37638937  -0.1175735 ]\n",
      " [ -2.19677438 -10.29760014]\n",
      " [ -2.19677438 -10.29760014]\n",
      " [ -4.37638937  -0.1175735 ]\n",
      " [ -2.19677438 -10.29760014]\n",
      " [-10.28002621   8.50213729]\n",
      " [ -2.19677438 -10.29760014]\n",
      " [ -4.37638937  -0.1175735 ]\n",
      " [ -4.37638937  -0.1175735 ]\n",
      " [ -2.19677438 -10.29760014]\n",
      " [ -2.19677438 -10.29760014]\n",
      " [ -2.19677438 -10.29760014]\n",
      " [ -4.37638937  -0.1175735 ]\n",
      " [-10.28002621   8.50213729]\n",
      " [ -2.19677438 -10.29760014]\n",
      " [ -4.37638937  -0.1175735 ]\n",
      " [ -2.19677438 -10.29760014]\n",
      " [ -2.19677438 -10.29760014]\n",
      " [ -4.37638937  -0.1175735 ]]\n"
     ]
    }
   ],
   "source": [
    "labers = kmean.labels_ \n",
    "centers = kmean.cluster_centers_\n",
    "markers = ['o','^','*']\n",
    "colors = ['r','b','y']\n",
    "print(X[labers])"
   ]
  },
  {
   "cell_type": "code",
   "execution_count": 11,
   "metadata": {},
   "outputs": [
    {
     "name": "stdout",
     "output_type": "stream",
     "text": [
      "[[-3.03791254  0.49678754]\n",
      " [-2.06184874 -8.41216689]\n",
      " [-9.56498559  8.29820124]]\n"
     ]
    }
   ],
   "source": [
    "# 輸出中心點位置\n",
    "print(centers)"
   ]
  },
  {
   "cell_type": "code",
   "execution_count": 12,
   "metadata": {},
   "outputs": [
    {
     "data": {
      "image/png": "[encoded data removed]",
      "text/plain": [
       "<Figure size 432x288 with 1 Axes>"
      ]
     },
     "metadata": {
      "needs_background": "light"
     },
     "output_type": "display_data"
    }
   ],
   "source": [
    "# 視覺化呈現\n",
    "\n",
    "plt.figure(figsize=(6,4))\n",
    "\n",
    "for c in range(n_clusters):\n",
    "    cluster = X[labers == c]\n",
    "    plt.scatter(cluster[:,0],cluster[:,1],marker=markers[c],s=20,c=colors[c])\n",
    "\n",
    "#輸出中心點\n",
    "for i,c in enumerate(centers):\n",
    "    plt.scatter(c[0],c[1],marker ='$%d$' % i, s=50, c='black')"
   ]
  },
  {
   "cell_type": "code",
   "execution_count": null,
   "metadata": {},
   "outputs": [],
   "source": []
  }
 ],
 "metadata": {
  "kernelspec": {
   "display_name": "Python 3",
   "language": "python",
   "name": "python3"
  },
  "language_info": {
   "codemirror_mode": {
    "name": "ipython",
    "version": 3
   },
   "file_extension": ".py",
   "mimetype": "text/x-python",
   "name": "python",
   "nbconvert_exporter": "python",
   "pygments_lexer": "ipython3",
   "version": "3.5.4"
  }
 },
 "nbformat": 4,
 "nbformat_minor": 2
}
