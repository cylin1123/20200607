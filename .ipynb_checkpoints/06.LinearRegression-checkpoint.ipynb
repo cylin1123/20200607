{
 "cells": [
  {
   "cell_type": "markdown",
   "metadata": {},
   "source": [
    "## 簡單線性迴歸模型\n",
    "\n",
    "* y = β0+β1x     <br> β0：截距(Intercept)，β1：斜率(Slope)為 x變動一個單位y變動的量\n",
    "\n",
    "\n",
    "* 優點 : 快速,不需參數,容易理解\n",
    "* 缺點 : 相較其他複雜模型，其預測率不是太高"
   ]
  },
  {
   "cell_type": "markdown",
   "metadata": {},
   "source": [
    "#### 模型績效評估指標 \n",
    "* 平均絕對誤差(Mean Absolute Error, MAE)\n",
    "* 均方誤差(Mean Squared Error, MSE)\n",
    "* 均方根誤差(Root Mean Squared Error, RMSE)"
   ]
  },
  {
   "cell_type": "markdown",
   "metadata": {},
   "source": [
    "#### Example 1 珍奶銷售量預測"
   ]
  },
  {
   "cell_type": "code",
   "execution_count": 84,
   "metadata": {},
   "outputs": [
    {
     "name": "stdout",
     "output_type": "stream",
     "text": [
      "[29 28 34 31 25 29 32 31 24 33 25 31 26 30]\n",
      "(14,)\n",
      "[77 62 93 84 59 64 80 75 58 91 51 73 65 84]\n",
      "(14,)\n",
      "----\n",
      "[[29]\n",
      " [28]\n",
      " [34]\n",
      " [31]\n",
      " [25]\n",
      " [29]\n",
      " [32]\n",
      " [31]\n",
      " [24]\n",
      " [33]\n",
      " [25]\n",
      " [31]\n",
      " [26]\n",
      " [30]]\n",
      "(14, 1)\n",
      "[[77]\n",
      " [62]\n",
      " [93]\n",
      " [84]\n",
      " [59]\n",
      " [64]\n",
      " [80]\n",
      " [75]\n",
      " [58]\n",
      " [91]\n",
      " [51]\n",
      " [73]\n",
      " [65]\n",
      " [84]]\n",
      "(14, 1)\n"
     ]
    }
   ],
   "source": [
    "import numpy as np\n",
    "from sklearn.linear_model import LinearRegression\n",
    "\n",
    "temperatures = np.array([29, 28, 34, 31, 25, 29, 32, 31, 24, 33, 25, 31, 26, 30])\n",
    "bubbleTea_sales = np.array([77, 62, 93, 84, 59, 64, 80, 75, 58, 91, 51, 73, 65, 84])\n",
    "\n",
    "print(temperatures)\n",
    "print(temperatures.shape)\n",
    "print(bubbleTea_sales)\n",
    "print(bubbleTea_sales.shape)\n",
    "\n",
    "# 轉換維度\n",
    "temperatures = np.reshape(temperatures, (len(temperatures), 1))\n",
    "#temperatures = temperatures.reshape(-1,1)\n",
    "\n",
    "bubbleTea_sales = np.reshape(bubbleTea_sales, (len(bubbleTea_sales), 1)) \n",
    "#bubbleTea_sales =bubbleTea_sales.reshape(-1,1)\n",
    "print(\"----\")\n",
    "print(temperatures)\n",
    "print(temperatures.shape)\n",
    "print(bubbleTea_sales)\n",
    "print(bubbleTea_sales.shape)"
   ]
  },
  {
   "cell_type": "code",
   "execution_count": 85,
   "metadata": {},
   "outputs": [
    {
     "name": "stdout",
     "output_type": "stream",
     "text": [
      "[[3.73788546]]\n",
      "[-36.36123348]\n"
     ]
    }
   ],
   "source": [
    "Linear = LinearRegression()\n",
    "Linear.fit(temperatures,bubbleTea_sales)\n",
    "\n",
    "# 印出係數\n",
    "print(Linear.coef_)\n",
    "\n",
    "# 印出截距\n",
    "print(Linear.intercept_ )"
   ]
  },
  {
   "cell_type": "code",
   "execution_count": 90,
   "metadata": {},
   "outputs": [
    {
     "name": "stdout",
     "output_type": "stream",
     "text": [
      "[[31]]\n",
      "[[79.51321586]]\n"
     ]
    }
   ],
   "source": [
    "# 新的氣溫資料進行預測\n",
    "to_be_predicted = np.array([31]).reshape(-1,1)\n",
    "print(to_be_predicted)\n",
    "\n",
    "predicted_sales = Linear.predict(to_be_predicted)\n",
    "\n",
    "# 預測的珍珠奶銷量\n",
    "print(predicted_sales)"
   ]
  },
  {
   "cell_type": "code",
   "execution_count": 87,
   "metadata": {},
   "outputs": [
    {
     "data": {
      "image/png": "[encoded data removed]",
      "text/plain": [
       "<Figure size 432x288 with 1 Axes>"
      ]
     },
     "metadata": {
      "needs_background": "light"
     },
     "output_type": "display_data"
    }
   ],
   "source": [
    "import matplotlib.pyplot as plt\n",
    "\n",
    "# 視覺化\n",
    "plt.scatter(temperatures, bubbleTea_sales, color='black',)\n",
    "plt.plot(temperatures, Linear.predict(temperatures), color='blue', linewidth=2)\n",
    "plt.plot(to_be_predicted, predicted_sales, color = 'red', marker = '^', markersize = 10)\n",
    "plt.show()"
   ]
  },
  {
   "cell_type": "code",
   "execution_count": 88,
   "metadata": {},
   "outputs": [
    {
     "name": "stdout",
     "output_type": "stream",
     "text": [
      "MSE =  27.934864694776564\n",
      "R-Square =  0.8225092881166945\n"
     ]
    }
   ],
   "source": [
    "# 模型績效\n",
    "mse = np.mean((Linear.predict(temperatures) - bubbleTea_sales) ** 2)\n",
    "r_squared = Linear.score(temperatures,bubbleTea_sales)\n",
    "\n",
    "# 印出模型績效\n",
    "print(\"MSE = \",mse)\n",
    "print(\"R-Square = \",r_squared)"
   ]
  },
  {
   "cell_type": "code",
   "execution_count": null,
   "metadata": {},
   "outputs": [],
   "source": []
  },
  {
   "cell_type": "code",
   "execution_count": null,
   "metadata": {},
   "outputs": [],
   "source": []
  },
  {
   "cell_type": "code",
   "execution_count": null,
   "metadata": {},
   "outputs": [],
   "source": []
  },
  {
   "cell_type": "code",
   "execution_count": null,
   "metadata": {},
   "outputs": [],
   "source": []
  },
  {
   "cell_type": "code",
   "execution_count": null,
   "metadata": {},
   "outputs": [],
   "source": []
  },
  {
   "cell_type": "code",
   "execution_count": null,
   "metadata": {},
   "outputs": [],
   "source": []
  },
  {
   "cell_type": "code",
   "execution_count": null,
   "metadata": {},
   "outputs": [],
   "source": []
  },
  {
   "cell_type": "markdown",
   "metadata": {},
   "source": [
    "## 分群 (Clustering)"
   ]
  },
  {
   "cell_type": "markdown",
   "metadata": {},
   "source": [
    "* 為一種非監督式學習 => 訓練資料沒有預先定義的標籤\n",
    "* 目的在於找出資料中相似的幾個群聚，在同一個子集中的成員對象都有相似的一些屬性"
   ]
  },
  {
   "cell_type": "markdown",
   "metadata": {},
   "source": [
    "#### make_blobs\n",
    "\n",
    "* 根據使用者指定的特徵數量、中心點數量、範圍等參數生成一個N類資料集和對應標籤\n",
    "\n",
    "* sklearn.datasets.make_blobs(n_samples=100, n_features=2, centers=3, cluster_std=1.0, center_box=(-10.0, 10.0), shuffle=True, random_state=None)\n",
    "\n",
    "參數|說明\n",
    "------|------\n",
    "n_samples|待生成的樣本總數\n",
    "n_features|每個樣本的特徵數\n",
    "centers|類別數\n",
    "cluster_std|每個類別的方差\n",
    "center_box|中心確定之後的資料邊界，default value : (-10.0, 10.0)\n",
    "shuffle | 打亂 default value : True\n",
    "random_state | 相同的值重覆機率\n"
   ]
  },
  {
   "cell_type": "code",
   "execution_count": 5,
   "metadata": {},
   "outputs": [],
   "source": [
    "from sklearn.datasets import make_blobs\n",
    "\n",
    "X,y = make_blobs(n_samples=100,n_features=2,centers=4,cluster_std=1,center_box=(-10.0,10.0),shuffle=True,random_state=None)"
   ]
  },
  {
   "cell_type": "code",
   "execution_count": 6,
   "metadata": {},
   "outputs": [
    {
     "data": {
      "text/plain": [
       "array([[ -2.82883627,  -8.4147082 ],\n",
       "       [  1.93297637, -10.77464672],\n",
       "       [  0.73104033,  -8.46943249],\n",
       "       [  7.12048767,  -0.36692691],\n",
       "       [ -5.80136749,   4.58365472],\n",
       "       [  6.65105086,  -1.6475356 ],\n",
       "       [ -4.06645944,  -7.50539924],\n",
       "       [ -5.24276447,   6.17885281],\n",
       "       [ -6.70508896,   3.76143153],\n",
       "       [ -3.04091002,  -7.24858714],\n",
       "       [ -5.89238404,   5.55850597],\n",
       "       [ -3.86091037,   4.58710116],\n",
       "       [  1.08497518, -10.88787723],\n",
       "       [ -4.72358009,  -8.6214357 ],\n",
       "       [  0.54713631,  -9.46870851],\n",
       "       [  8.06300699,  -2.16996947],\n",
       "       [ -3.67111725,  -8.01999215],\n",
       "       [ -3.97585692,  -8.34560579],\n",
       "       [ -2.04522084,   4.45168715],\n",
       "       [  0.02825295, -10.08540686],\n",
       "       [ -3.46194675,   3.85161595],\n",
       "       [  0.41187093,  -8.9241659 ],\n",
       "       [ -3.93303791,   6.14026408],\n",
       "       [ -4.7823898 ,  -6.41791082],\n",
       "       [  9.66736429,  -0.19659321],\n",
       "       [  1.74342876, -10.33476423],\n",
       "       [  1.0236433 ,  -9.17495508],\n",
       "       [  7.4467936 ,  -0.34979538],\n",
       "       [  1.64020044,  -9.8663771 ],\n",
       "       [ -4.64496344,   3.89258022],\n",
       "       [ -5.91470282,   5.32379829],\n",
       "       [ -3.45652755,  -8.25132638],\n",
       "       [ -3.17138669,   4.54032213],\n",
       "       [  2.12397306,  -9.45145505],\n",
       "       [  7.97261853,  -1.31168111],\n",
       "       [ -3.44161323,  -6.95172137],\n",
       "       [ -4.38578302,  -7.12747206],\n",
       "       [ -2.56249304,  -7.60105666],\n",
       "       [  6.32247198,  -1.39037792],\n",
       "       [  7.53412591,   0.19905924],\n",
       "       [  1.96524091, -10.43960131],\n",
       "       [  0.93106756,  -9.64681457],\n",
       "       [  1.31607683, -10.47008966],\n",
       "       [ -6.34227852,  -6.34148595],\n",
       "       [  7.37277194,  -1.62297948],\n",
       "       [  0.32017876,  -9.41991745],\n",
       "       [ -3.02467287,   5.72132253],\n",
       "       [ -5.74862353,   4.45706992],\n",
       "       [  7.16246096,  -2.94324201],\n",
       "       [ -0.42403442,  -9.9228795 ],\n",
       "       [  1.53570509, -10.51863706],\n",
       "       [  1.3263705 , -10.12181499],\n",
       "       [ -2.5090572 ,  -7.70683848],\n",
       "       [  7.54090966,  -1.61947269],\n",
       "       [  7.56797914,  -2.21083592],\n",
       "       [ -5.32245999,   2.12833809],\n",
       "       [ -5.11820334,   5.08668411],\n",
       "       [ -3.89056262,  -9.34995907],\n",
       "       [  7.34373297,  -0.73253065],\n",
       "       [  1.68793998, -10.84279362],\n",
       "       [  7.09434458,  -0.87281847],\n",
       "       [ -4.16139591,   3.6210413 ],\n",
       "       [  7.54064685,   1.32785329],\n",
       "       [ -5.11846825,  -8.02842465],\n",
       "       [ -0.6752301 , -10.68650991],\n",
       "       [ -5.26668801,  -6.72187045],\n",
       "       [  6.59530222,  -1.60661356],\n",
       "       [ -3.3032872 ,  -5.98711386],\n",
       "       [ -3.9238978 ,  -6.97409911],\n",
       "       [  8.22237114,  -0.53990706],\n",
       "       [  1.76954334, -11.16183562],\n",
       "       [ -4.87997477,   4.63526179],\n",
       "       [  1.90861518,  -8.67916021],\n",
       "       [  8.31687804,  -2.53319125],\n",
       "       [ -5.0572701 ,   4.16436569],\n",
       "       [ -5.33124257,  -6.07767698],\n",
       "       [  7.75659346,   0.16491498],\n",
       "       [  7.8975091 ,  -2.11430597],\n",
       "       [ -6.69439279,   5.13310378],\n",
       "       [ -4.57414087,   4.28832823],\n",
       "       [ -4.94765545,  -7.79218662],\n",
       "       [ -3.90583389,   5.10077645],\n",
       "       [ -4.55232945,   5.89143658],\n",
       "       [ -5.19218407,   4.77306293],\n",
       "       [  1.3837708 , -11.17882141],\n",
       "       [  7.85337497,  -1.29791891],\n",
       "       [ -3.4542455 ,   4.66485323],\n",
       "       [  8.05662161,  -4.79447377],\n",
       "       [ -4.3504075 ,  -8.33017104],\n",
       "       [  1.42310993,  -8.96676188],\n",
       "       [ -3.30651098,  -7.1662931 ],\n",
       "       [ -5.035353  ,   3.87874497],\n",
       "       [ -4.10377744,  -6.93191042],\n",
       "       [  6.01699387,  -3.5047072 ],\n",
       "       [  1.49472658,  -9.54486327],\n",
       "       [ -0.40965606, -10.35302443],\n",
       "       [ -2.33093127,  -5.3782963 ],\n",
       "       [  5.83452445,  -1.41933149],\n",
       "       [ -3.71058187,  -7.27706382],\n",
       "       [  9.10776758,  -1.62083333]])"
      ]
     },
     "execution_count": 6,
     "metadata": {},
     "output_type": "execute_result"
    }
   ],
   "source": [
    "X"
   ]
  },
  {
   "cell_type": "code",
   "execution_count": 7,
   "metadata": {},
   "outputs": [
    {
     "data": {
      "text/plain": [
       "array([1, 3, 3, 0, 2, 0, 1, 2, 2, 1, 2, 2, 3, 1, 3, 0, 1, 1, 2, 3, 2, 3,\n",
       "       2, 1, 0, 3, 3, 0, 3, 2, 2, 1, 2, 3, 0, 1, 1, 1, 0, 0, 3, 3, 3, 1,\n",
       "       0, 3, 2, 2, 0, 3, 3, 3, 1, 0, 0, 2, 2, 1, 0, 3, 0, 2, 0, 1, 3, 1,\n",
       "       0, 1, 1, 0, 3, 2, 3, 0, 2, 1, 0, 0, 2, 2, 1, 2, 2, 2, 3, 0, 2, 0,\n",
       "       1, 3, 1, 2, 1, 0, 3, 3, 1, 0, 1, 0])"
      ]
     },
     "execution_count": 7,
     "metadata": {},
     "output_type": "execute_result"
    }
   ],
   "source": [
    "y"
   ]
  },
  {
   "cell_type": "code",
   "execution_count": 8,
   "metadata": {},
   "outputs": [],
   "source": [
    "import matplotlib.pyplot as plt"
   ]
  },
  {
   "cell_type": "code",
   "execution_count": 9,
   "metadata": {
    "scrolled": false
   },
   "outputs": [
    {
     "data": {
      "text/plain": [
       "<matplotlib.collections.PathCollection at 0x27ff9cceef0>"
      ]
     },
     "execution_count": 9,
     "metadata": {},
     "output_type": "execute_result"
    },
    {
     "data": {
      "image/png": "[encoded data removed]",
      "text/plain": [
       "<Figure size 432x288 with 1 Axes>"
      ]
     },
     "metadata": {
      "needs_background": "light"
     },
     "output_type": "display_data"
    }
   ],
   "source": [
    "plt.figure(figsize=(6,4))\n",
    "plt.scatter(X[:, 0], X[:, 1], s=20, marker='o')"
   ]
  },
  {
   "cell_type": "markdown",
   "metadata": {},
   "source": [
    "### K平均演算法 (K-means algorithm)\n",
    "\n",
    "* 把n個點劃分到k個聚類中，使每個點都有屬於一個離它最近的均值(聚類中心)對應的聚類 (利用向量距離來做聚類)，以作為分群的標準\n",
    "* 已知觀測集(x1,x2,...,xn)，其中每個觀測都是一個d-維實向量，k-平均聚類要把這n個觀測劃分到k個集合中(k≤n),使得組內平方和（WCSS within-cluster sum of squares）最小"
   ]
  },
  {
   "cell_type": "markdown",
   "metadata": {},
   "source": [
    "#### Scikit-learn K-Means\n",
    "sklearn.cluster.KMeans(n_clusters=8, init=’k-means++’, n_init=10, max_iter=300, tol=0.0001, precompute_distances=’auto’, verbose=0, random_state=None, copy_x=True, n_jobs=None, algorithm=’auto’)\n",
    "\n",
    "參數 | 說明\n",
    "------|------\n",
    "n_clusters |聚類中心數量, default : 8\n",
    "init | 'k-means++   <br>'random':隨機選擇K個instance做為中心 <br>ndarray : 如傳入為矩陣（ndarray），則將該矩陣的每一行作為聚類中心\n",
    "n_init |隨機運行的次數 default: 10\n",
    "max_iter |運行的最大迭代次數 default: 300\n",
    "tol | 容忍的最小誤差,誤差小於tol則退出迭代 default: 1e-4\n",
    "precompute_distances | 是否將資料全載入到記憶體內計算，可選{'auto', True, False}\n",
    "n_jobs| 同時進行運算的核数\n",
    "verbose|是否輸出詳細訊息,default : 0 \n",
    "random_state|用於隨機產生中心的隨機序列\n",
    "copy_x|是否將資料複製一份進行運算\n",
    "algorithm |距離計算方式，可選{\"auto\", \"full\" or \"elkan\",default=\"auto\"}<br>full : 傳統距離計算公式 <br> elkan : 使用三角不等式 <br> auto : 為稀疏矩陣時使用full，否則使用elkan\n",
    "\n",
    "方法|說明\n",
    "------|------\n",
    "fit（X）|進行訓練\n",
    "predict(X) | 進行新數據類別的預測\n"
   ]
  },
  {
   "cell_type": "code",
   "execution_count": 17,
   "metadata": {},
   "outputs": [
    {
     "data": {
      "text/plain": [
       "KMeans(algorithm='auto', copy_x=True, init='k-means++', max_iter=300,\n",
       "       n_clusters=3, n_init=10, n_jobs=None, precompute_distances='auto',\n",
       "       random_state=None, tol=0.0001, verbose=0)"
      ]
     },
     "execution_count": 17,
     "metadata": {},
     "output_type": "execute_result"
    }
   ],
   "source": [
    "from sklearn.cluster import KMeans\n",
    "\n",
    "n_clusters = 3\n",
    "\n",
    "kmean = KMeans(n_clusters=n_clusters) \n",
    "\n",
    "kmean.fit(X) #進行訓練\n",
    "#kmean.fit_predict(X) # 先對X進行訓練並預測X中每個實例(instance)的類別\n"
   ]
  },
  {
   "cell_type": "code",
   "execution_count": 18,
   "metadata": {},
   "outputs": [
    {
     "name": "stdout",
     "output_type": "stream",
     "text": [
      "k=3, cost =-586\n"
     ]
    }
   ],
   "source": [
    "print(\"k={}, cost ={}\".format(n_clusters,int(kmean.score(X)))) #計算誤差"
   ]
  },
  {
   "cell_type": "code",
   "execution_count": 19,
   "metadata": {},
   "outputs": [
    {
     "name": "stdout",
     "output_type": "stream",
     "text": [
      "[[ -2.82883627  -8.4147082 ]\n",
      " [ -2.82883627  -8.4147082 ]\n",
      " [ -2.82883627  -8.4147082 ]\n",
      " [  0.73104033  -8.46943249]\n",
      " [  1.93297637 -10.77464672]\n",
      " [  0.73104033  -8.46943249]\n",
      " [ -2.82883627  -8.4147082 ]\n",
      " [  1.93297637 -10.77464672]\n",
      " [  1.93297637 -10.77464672]\n",
      " [ -2.82883627  -8.4147082 ]\n",
      " [  1.93297637 -10.77464672]\n",
      " [  1.93297637 -10.77464672]\n",
      " [ -2.82883627  -8.4147082 ]\n",
      " [ -2.82883627  -8.4147082 ]\n",
      " [ -2.82883627  -8.4147082 ]\n",
      " [  0.73104033  -8.46943249]\n",
      " [ -2.82883627  -8.4147082 ]\n",
      " [ -2.82883627  -8.4147082 ]\n",
      " [  1.93297637 -10.77464672]\n",
      " [ -2.82883627  -8.4147082 ]\n",
      " [  1.93297637 -10.77464672]\n",
      " [ -2.82883627  -8.4147082 ]\n",
      " [  1.93297637 -10.77464672]\n",
      " [ -2.82883627  -8.4147082 ]\n",
      " [  0.73104033  -8.46943249]\n",
      " [ -2.82883627  -8.4147082 ]\n",
      " [ -2.82883627  -8.4147082 ]\n",
      " [  0.73104033  -8.46943249]\n",
      " [ -2.82883627  -8.4147082 ]\n",
      " [  1.93297637 -10.77464672]\n",
      " [  1.93297637 -10.77464672]\n",
      " [ -2.82883627  -8.4147082 ]\n",
      " [  1.93297637 -10.77464672]\n",
      " [ -2.82883627  -8.4147082 ]\n",
      " [  0.73104033  -8.46943249]\n",
      " [ -2.82883627  -8.4147082 ]\n",
      " [ -2.82883627  -8.4147082 ]\n",
      " [ -2.82883627  -8.4147082 ]\n",
      " [  0.73104033  -8.46943249]\n",
      " [  0.73104033  -8.46943249]\n",
      " [ -2.82883627  -8.4147082 ]\n",
      " [ -2.82883627  -8.4147082 ]\n",
      " [ -2.82883627  -8.4147082 ]\n",
      " [ -2.82883627  -8.4147082 ]\n",
      " [  0.73104033  -8.46943249]\n",
      " [ -2.82883627  -8.4147082 ]\n",
      " [  1.93297637 -10.77464672]\n",
      " [  1.93297637 -10.77464672]\n",
      " [  0.73104033  -8.46943249]\n",
      " [ -2.82883627  -8.4147082 ]\n",
      " [ -2.82883627  -8.4147082 ]\n",
      " [ -2.82883627  -8.4147082 ]\n",
      " [ -2.82883627  -8.4147082 ]\n",
      " [  0.73104033  -8.46943249]\n",
      " [  0.73104033  -8.46943249]\n",
      " [  1.93297637 -10.77464672]\n",
      " [  1.93297637 -10.77464672]\n",
      " [ -2.82883627  -8.4147082 ]\n",
      " [  0.73104033  -8.46943249]\n",
      " [ -2.82883627  -8.4147082 ]\n",
      " [  0.73104033  -8.46943249]\n",
      " [  1.93297637 -10.77464672]\n",
      " [  0.73104033  -8.46943249]\n",
      " [ -2.82883627  -8.4147082 ]\n",
      " [ -2.82883627  -8.4147082 ]\n",
      " [ -2.82883627  -8.4147082 ]\n",
      " [  0.73104033  -8.46943249]\n",
      " [ -2.82883627  -8.4147082 ]\n",
      " [ -2.82883627  -8.4147082 ]\n",
      " [  0.73104033  -8.46943249]\n",
      " [ -2.82883627  -8.4147082 ]\n",
      " [  1.93297637 -10.77464672]\n",
      " [ -2.82883627  -8.4147082 ]\n",
      " [  0.73104033  -8.46943249]\n",
      " [  1.93297637 -10.77464672]\n",
      " [ -2.82883627  -8.4147082 ]\n",
      " [  0.73104033  -8.46943249]\n",
      " [  0.73104033  -8.46943249]\n",
      " [  1.93297637 -10.77464672]\n",
      " [  1.93297637 -10.77464672]\n",
      " [ -2.82883627  -8.4147082 ]\n",
      " [  1.93297637 -10.77464672]\n",
      " [  1.93297637 -10.77464672]\n",
      " [  1.93297637 -10.77464672]\n",
      " [ -2.82883627  -8.4147082 ]\n",
      " [  0.73104033  -8.46943249]\n",
      " [  1.93297637 -10.77464672]\n",
      " [  0.73104033  -8.46943249]\n",
      " [ -2.82883627  -8.4147082 ]\n",
      " [ -2.82883627  -8.4147082 ]\n",
      " [ -2.82883627  -8.4147082 ]\n",
      " [  1.93297637 -10.77464672]\n",
      " [ -2.82883627  -8.4147082 ]\n",
      " [  0.73104033  -8.46943249]\n",
      " [ -2.82883627  -8.4147082 ]\n",
      " [ -2.82883627  -8.4147082 ]\n",
      " [ -2.82883627  -8.4147082 ]\n",
      " [  0.73104033  -8.46943249]\n",
      " [ -2.82883627  -8.4147082 ]\n",
      " [  0.73104033  -8.46943249]]\n"
     ]
    }
   ],
   "source": [
    "labers = kmean.labels_ \n",
    "centers = kmean.cluster_centers_\n",
    "markers = ['o','^','*']\n",
    "colors = ['r','b','y']\n",
    "print(X[labers])"
   ]
  },
  {
   "cell_type": "code",
   "execution_count": 20,
   "metadata": {},
   "outputs": [
    {
     "name": "stdout",
     "output_type": "stream",
     "text": [
      "[[-1.45099982 -8.67919839]\n",
      " [-4.69579415  4.65656814]\n",
      " [ 7.52234809 -1.40696855]]\n"
     ]
    }
   ],
   "source": [
    "# 輸出中心點位置\n",
    "print(centers)"
   ]
  },
  {
   "cell_type": "code",
   "execution_count": 21,
   "metadata": {},
   "outputs": [
    {
     "data": {
      "image/png": "[encoded data removed]",
      "text/plain": [
       "<Figure size 432x288 with 1 Axes>"
      ]
     },
     "metadata": {
      "needs_background": "light"
     },
     "output_type": "display_data"
    }
   ],
   "source": [
    "# 視覺化呈現\n",
    "\n",
    "plt.figure(figsize=(6,4))\n",
    "\n",
    "for c in range(n_clusters):\n",
    "    cluster = X[labers == c]\n",
    "    plt.scatter(cluster[:,0],cluster[:,1],marker=markers[c],s=20,c=colors[c])\n",
    "\n",
    "#輸出中心點\n",
    "for i,c in enumerate(centers):\n",
    "    plt.scatter(c[0],c[1],marker ='$%d$' % i, s=50, c='black')\n",
    "    "
   ]
  },
  {
   "cell_type": "code",
   "execution_count": 22,
   "metadata": {},
   "outputs": [
    {
     "name": "stdout",
     "output_type": "stream",
     "text": [
      "[2]\n"
     ]
    }
   ],
   "source": [
    "#對新數據進行預測\n",
    "print(kmean.predict([[10, 7]]))"
   ]
  },
  {
   "cell_type": "code",
   "execution_count": null,
   "metadata": {},
   "outputs": [],
   "source": []
  },
  {
   "cell_type": "code",
   "execution_count": null,
   "metadata": {},
   "outputs": [],
   "source": []
  },
  {
   "cell_type": "markdown",
   "metadata": {},
   "source": []
  },
  {
   "cell_type": "markdown",
   "metadata": {},
   "source": [
    "#### 優點\n",
    "* 對異常值有較高的容忍度\n",
    "\n",
    "#### 缺點\n",
    "* 計算量較大, 對記憶體需求較高\n",
    "* 每次對一個未標記樣本進行分類時,需要全部計算一遍距離"
   ]
  },
  {
   "cell_type": "code",
   "execution_count": 51,
   "metadata": {},
   "outputs": [
    {
     "name": "stdout",
     "output_type": "stream",
     "text": [
      "[[ 1.1468649   2.9753877 ]\n",
      " [ 0.03325861  4.15123595]\n",
      " [-0.01409111  4.21416594]\n",
      " [-3.27649491  2.3268093 ]\n",
      " [-1.51063101  3.1204466 ]\n",
      " [-0.31716105  3.81862942]\n",
      " [-1.77806838  2.16683716]\n",
      " [ 2.07747371  2.18908126]\n",
      " [-1.61948114  2.06083751]\n",
      " [ 1.55610713  1.00960177]\n",
      " [-1.84346615  1.57295213]\n",
      " [-1.92797821  2.72713675]\n",
      " [ 1.37360232  2.38874518]\n",
      " [ 1.74517391  1.78096285]\n",
      " [-0.45364918  4.0259727 ]\n",
      " [ 2.61514534  2.60118992]\n",
      " [ 1.82604393  2.07817448]\n",
      " [-0.40657314  3.1368587 ]\n",
      " [-1.5677819   1.62891749]\n",
      " [-0.81509917  4.23139113]\n",
      " [ 1.55226672  2.19345125]\n",
      " [-2.05160943  2.20529925]\n",
      " [-1.11797383  2.2000786 ]\n",
      " [ 2.76638961  2.73467938]\n",
      " [-0.86512269  1.27281716]\n",
      " [ 0.36454528  4.06449146]\n",
      " [ 1.47572352  1.28999103]\n",
      " [ 0.20117082  3.65759495]\n",
      " [ 0.56970034  3.38258709]\n",
      " [ 1.74459743  1.40968391]\n",
      " [ 0.08871307  3.79910953]\n",
      " [ 1.80633659  1.84884862]\n",
      " [-1.25296046  1.89742087]\n",
      " [-0.15577627  4.02808267]\n",
      " [-0.43539857  3.71057517]\n",
      " [-1.52495579  1.9243214 ]\n",
      " [-1.066221    1.51136106]\n",
      " [ 1.19305108  1.89362986]\n",
      " [-0.33623022  3.82022342]\n",
      " [-1.97712074  1.90640807]]\n",
      "[1 2 2 0 0 2 0 1 0 1 0 0 1 1 2 1 1 2 0 2 1 0 0 1 0 2 1 2 2 1 2 1 0 2 2 0 0\n",
      " 1 2 0]\n"
     ]
    },
    {
     "name": "stderr",
     "output_type": "stream",
     "text": [
      "c:\\users\\lifeplus\\appdata\\local\\programs\\python\\python35\\lib\\site-packages\\sklearn\\utils\\deprecation.py:144: FutureWarning: The sklearn.datasets.samples_generator module is  deprecated in version 0.22 and will be removed in version 0.24. The corresponding classes / functions should instead be imported from sklearn.datasets. Anything that cannot be imported from sklearn.datasets is now part of the private API.\n",
      "  warnings.warn(message, FutureWarning)\n"
     ]
    }
   ],
   "source": [
    "from sklearn.datasets.samples_generator import make_blobs\n",
    "\n",
    "centers = [[-2,2],[2,2],[0,4]]\n",
    "X , Y = make_blobs(n_samples = 40 , centers = centers, random_state = 0 , cluster_std =0.5) \n",
    "print(X)\n",
    "print(Y)"
   ]
  },
  {
   "cell_type": "code",
   "execution_count": 52,
   "metadata": {},
   "outputs": [
    {
     "data": {
      "text/plain": [
       "<matplotlib.collections.PathCollection at 0x27ffe0b8ef0>"
      ]
     },
     "execution_count": 52,
     "metadata": {},
     "output_type": "execute_result"
    },
    {
     "data": {
      "image/png": "[encoded data removed]",
      "text/plain": [
       "<Figure size 720x432 with 1 Axes>"
      ]
     },
     "metadata": {
      "needs_background": "light"
     },
     "output_type": "display_data"
    }
   ],
   "source": [
    "import matplotlib.pyplot as plt\n",
    "import numpy as np\n",
    "\n",
    "plt.figure(figsize=(10, 6))\n",
    "plt.scatter(X[:, 0], X[:, 1], c=Y, s=100, cmap='cool') #畫出樣本分布\n",
    "c = np.array(centers)\n",
    "plt.scatter(c[:, 0], c[:, 1], s=100, marker='^', c='black') #劃出中心點"
   ]
  },
  {
   "cell_type": "markdown",
   "metadata": {},
   "source": [
    "#### 使用 KNN 進行分類 "
   ]
  },
  {
   "cell_type": "code",
   "execution_count": 54,
   "metadata": {},
   "outputs": [],
   "source": [
    "from sklearn.neighbors import KNeighborsClassifier"
   ]
  },
  {
   "cell_type": "code",
   "execution_count": 55,
   "metadata": {},
   "outputs": [
    {
     "data": {
      "text/plain": [
       "KNeighborsClassifier(algorithm='auto', leaf_size=30, metric='minkowski',\n",
       "                     metric_params=None, n_jobs=None, n_neighbors=10, p=2,\n",
       "                     weights='uniform')"
      ]
     },
     "execution_count": 55,
     "metadata": {},
     "output_type": "execute_result"
    }
   ],
   "source": [
    "# 訓練模型\n",
    "k = 10 \n",
    "clf = KNeighborsClassifier(n_neighbors=k) \n",
    "clf.fit(X,Y)"
   ]
  },
  {
   "cell_type": "code",
   "execution_count": 56,
   "metadata": {},
   "outputs": [
    {
     "name": "stdout",
     "output_type": "stream",
     "text": [
      "屬於類別 :  [1]\n",
      "[[23 15  0 25 28  7 12  1 27  2]]\n"
     ]
    }
   ],
   "source": [
    "# 進行新樣本預測\n",
    "\n",
    "sample_x = np.array([3, 5]).reshape(1, -1)\n",
    "sample_y = clf.predict(sample_x)\n",
    "neighbors = clf.kneighbors(sample_x, return_distance=False);\n",
    "print(\"屬於類別 : \" ,sample_y)\n",
    "print(neighbors)"
   ]
  },
  {
   "cell_type": "code",
   "execution_count": 57,
   "metadata": {},
   "outputs": [
    {
     "data": {
      "image/png": "[encoded data removed]",
      "text/plain": [
       "<Figure size 720x432 with 1 Axes>"
      ]
     },
     "metadata": {
      "needs_background": "light"
     },
     "output_type": "display_data"
    }
   ],
   "source": [
    "plt.figure(figsize=(10, 6))\n",
    "plt.scatter(X[:, 0], X[:, 1], c=Y, s=100, cmap='cool')    # 劃出sample\n",
    "plt.scatter(c[:, 0], c[:, 1], s=100, marker='^', c='k')   # 劃出中心點\n",
    "plt.scatter(sample_x[0][0], sample_x[0][1], marker=\"x\", s=100, cmap='cool')    #帶預測的點 \n",
    "\n",
    "for i in neighbors[0]:\n",
    "    # 與預測點距離最近的 N個樣本連線\n",
    "    plt.plot([X[i][0], sample_x[0][0]], [X[i][1], sample_x[0][1]],'k--', linewidth=0.6);"
   ]
  },
  {
   "cell_type": "markdown",
   "metadata": {},
   "source": [
    "#### 使用 KNN 進行迴歸預測"
   ]
  },
  {
   "cell_type": "code",
   "execution_count": 59,
   "metadata": {},
   "outputs": [],
   "source": [
    "from sklearn.neighbors import KNeighborsRegressor"
   ]
  },
  {
   "cell_type": "code",
   "execution_count": 60,
   "metadata": {},
   "outputs": [],
   "source": [
    "import matplotlib.pyplot as plt\n",
    "import numpy as np\n",
    "\n",
    "n_dots = 40\n",
    "X = 5 * np.random.rand(n_dots, 1)\n",
    "y = np.cos(X).ravel()\n",
    "\n",
    "\n",
    "y += 0.3 * np.random.rand(n_dots) + 0.1"
   ]
  },
  {
   "cell_type": "code",
   "execution_count": 61,
   "metadata": {},
   "outputs": [],
   "source": [
    "# 訓練模型\n",
    "from sklearn.neighbors import KNeighborsRegressor\n",
    "k = 10\n",
    "knn = KNeighborsRegressor(k)\n",
    "knn.fit(X, y);"
   ]
  },
  {
   "cell_type": "code",
   "execution_count": 62,
   "metadata": {},
   "outputs": [
    {
     "name": "stdout",
     "output_type": "stream",
     "text": [
      "[[ 0.        ]\n",
      " [ 0.1010101 ]\n",
      " [ 0.2020202 ]\n",
      " [ 0.3030303 ]\n",
      " [ 0.4040404 ]\n",
      " [ 0.50505051]\n",
      " [ 0.60606061]\n",
      " [ 0.70707071]\n",
      " [ 0.80808081]\n",
      " [ 0.90909091]\n",
      " [ 1.01010101]\n",
      " [ 1.11111111]\n",
      " [ 1.21212121]\n",
      " [ 1.31313131]\n",
      " [ 1.41414141]\n",
      " [ 1.51515152]\n",
      " [ 1.61616162]\n",
      " [ 1.71717172]\n",
      " [ 1.81818182]\n",
      " [ 1.91919192]\n",
      " [ 2.02020202]\n",
      " [ 2.12121212]\n",
      " [ 2.22222222]\n",
      " [ 2.32323232]\n",
      " [ 2.42424242]\n",
      " [ 2.52525253]\n",
      " [ 2.62626263]\n",
      " [ 2.72727273]\n",
      " [ 2.82828283]\n",
      " [ 2.92929293]\n",
      " [ 3.03030303]\n",
      " [ 3.13131313]\n",
      " [ 3.23232323]\n",
      " [ 3.33333333]\n",
      " [ 3.43434343]\n",
      " [ 3.53535354]\n",
      " [ 3.63636364]\n",
      " [ 3.73737374]\n",
      " [ 3.83838384]\n",
      " [ 3.93939394]\n",
      " [ 4.04040404]\n",
      " [ 4.14141414]\n",
      " [ 4.24242424]\n",
      " [ 4.34343434]\n",
      " [ 4.44444444]\n",
      " [ 4.54545455]\n",
      " [ 4.64646465]\n",
      " [ 4.74747475]\n",
      " [ 4.84848485]\n",
      " [ 4.94949495]\n",
      " [ 5.05050505]\n",
      " [ 5.15151515]\n",
      " [ 5.25252525]\n",
      " [ 5.35353535]\n",
      " [ 5.45454545]\n",
      " [ 5.55555556]\n",
      " [ 5.65656566]\n",
      " [ 5.75757576]\n",
      " [ 5.85858586]\n",
      " [ 5.95959596]\n",
      " [ 6.06060606]\n",
      " [ 6.16161616]\n",
      " [ 6.26262626]\n",
      " [ 6.36363636]\n",
      " [ 6.46464646]\n",
      " [ 6.56565657]\n",
      " [ 6.66666667]\n",
      " [ 6.76767677]\n",
      " [ 6.86868687]\n",
      " [ 6.96969697]\n",
      " [ 7.07070707]\n",
      " [ 7.17171717]\n",
      " [ 7.27272727]\n",
      " [ 7.37373737]\n",
      " [ 7.47474747]\n",
      " [ 7.57575758]\n",
      " [ 7.67676768]\n",
      " [ 7.77777778]\n",
      " [ 7.87878788]\n",
      " [ 7.97979798]\n",
      " [ 8.08080808]\n",
      " [ 8.18181818]\n",
      " [ 8.28282828]\n",
      " [ 8.38383838]\n",
      " [ 8.48484848]\n",
      " [ 8.58585859]\n",
      " [ 8.68686869]\n",
      " [ 8.78787879]\n",
      " [ 8.88888889]\n",
      " [ 8.98989899]\n",
      " [ 9.09090909]\n",
      " [ 9.19191919]\n",
      " [ 9.29292929]\n",
      " [ 9.39393939]\n",
      " [ 9.49494949]\n",
      " [ 9.5959596 ]\n",
      " [ 9.6969697 ]\n",
      " [ 9.7979798 ]\n",
      " [ 9.8989899 ]\n",
      " [10.        ]]\n"
     ]
    },
    {
     "data": {
      "text/plain": [
       "0.9188108514871964"
      ]
     },
     "execution_count": 62,
     "metadata": {},
     "output_type": "execute_result"
    }
   ],
   "source": [
    "# 生成足夠密集的點進行預測\n",
    "T = np.linspace(0, 10, 100)[:, np.newaxis]\n",
    "print(T)\n",
    "y_pred = knn.predict(T)\n",
    "knn.score(X, y)"
   ]
  },
  {
   "cell_type": "code",
   "execution_count": 63,
   "metadata": {},
   "outputs": [
    {
     "data": {
      "image/png": "[encoded data removed]",
      "text/plain": [
       "<Figure size 1152x720 with 1 Axes>"
      ]
     },
     "metadata": {
      "needs_background": "light"
     },
     "output_type": "display_data"
    }
   ],
   "source": [
    "# 画出拟合曲线\n",
    "plt.figure(figsize=(16, 10))\n",
    "plt.scatter(X, y, c='g', label='data', s=100)         # 劃出訓練樣本\n",
    "plt.plot(T, y_pred, c='k', label='prediction', lw=4)  # 劃出擬合曲線\n",
    "plt.title(\"KNeighborsRegressor (k = %i)\" % k)\n",
    "plt.show()"
   ]
  },
  {
   "cell_type": "code",
   "execution_count": null,
   "metadata": {},
   "outputs": [],
   "source": []
  },
  {
   "cell_type": "code",
   "execution_count": null,
   "metadata": {},
   "outputs": [],
   "source": []
  },
  {
   "cell_type": "code",
   "execution_count": null,
   "metadata": {},
   "outputs": [],
   "source": []
  },
  {
   "cell_type": "code",
   "execution_count": null,
   "metadata": {},
   "outputs": [],
   "source": []
  },
  {
   "cell_type": "code",
   "execution_count": null,
   "metadata": {},
   "outputs": [],
   "source": []
  },
  {
   "cell_type": "code",
   "execution_count": null,
   "metadata": {},
   "outputs": [],
   "source": []
  },
  {
   "cell_type": "code",
   "execution_count": null,
   "metadata": {},
   "outputs": [],
   "source": []
  },
  {
   "cell_type": "code",
   "execution_count": null,
   "metadata": {},
   "outputs": [],
   "source": []
  },
  {
   "cell_type": "code",
   "execution_count": null,
   "metadata": {},
   "outputs": [],
   "source": []
  },
  {
   "cell_type": "code",
   "execution_count": null,
   "metadata": {},
   "outputs": [],
   "source": []
  },
  {
   "cell_type": "code",
   "execution_count": null,
   "metadata": {},
   "outputs": [],
   "source": []
  },
  {
   "cell_type": "code",
   "execution_count": null,
   "metadata": {},
   "outputs": [],
   "source": []
  },
  {
   "cell_type": "code",
   "execution_count": null,
   "metadata": {},
   "outputs": [],
   "source": []
  },
  {
   "cell_type": "code",
   "execution_count": null,
   "metadata": {},
   "outputs": [],
   "source": []
  },
  {
   "cell_type": "code",
   "execution_count": null,
   "metadata": {},
   "outputs": [],
   "source": []
  },
  {
   "cell_type": "code",
   "execution_count": null,
   "metadata": {},
   "outputs": [],
   "source": []
  },
  {
   "cell_type": "code",
   "execution_count": null,
   "metadata": {},
   "outputs": [],
   "source": []
  },
  {
   "cell_type": "code",
   "execution_count": null,
   "metadata": {},
   "outputs": [],
   "source": []
  },
  {
   "cell_type": "code",
   "execution_count": null,
   "metadata": {},
   "outputs": [],
   "source": []
  }
 ],
 "metadata": {
  "kernelspec": {
   "display_name": "Python 3",
   "language": "python",
   "name": "python3"
  },
  "language_info": {
   "codemirror_mode": {
    "name": "ipython",
    "version": 3
   },
   "file_extension": ".py",
   "mimetype": "text/x-python",
   "name": "python",
   "nbconvert_exporter": "python",
   "pygments_lexer": "ipython3",
   "version": "3.5.4"
  }
 },
 "nbformat": 4,
 "nbformat_minor": 2
}
